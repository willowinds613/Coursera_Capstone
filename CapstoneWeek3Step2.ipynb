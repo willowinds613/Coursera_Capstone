{
 "cells": [
  {
   "cell_type": "code",
   "execution_count": 1,
   "metadata": {},
   "outputs": [
    {
     "name": "stdout",
     "output_type": "stream",
     "text": [
      "Requirement already satisfied: BeautifulSoup4 in ./anaconda3/lib/python3.7/site-packages (4.7.1)\n",
      "Requirement already satisfied: soupsieve>=1.2 in ./anaconda3/lib/python3.7/site-packages (from BeautifulSoup4) (1.8)\n",
      "Requirement already satisfied: requests in ./anaconda3/lib/python3.7/site-packages (2.22.0)\n",
      "Requirement already satisfied: certifi>=2017.4.17 in ./anaconda3/lib/python3.7/site-packages (from requests) (2019.6.16)\n",
      "Requirement already satisfied: idna<2.9,>=2.5 in ./anaconda3/lib/python3.7/site-packages (from requests) (2.8)\n",
      "Requirement already satisfied: urllib3!=1.25.0,!=1.25.1,<1.26,>=1.21.1 in ./anaconda3/lib/python3.7/site-packages (from requests) (1.24.2)\n",
      "Requirement already satisfied: chardet<3.1.0,>=3.0.2 in ./anaconda3/lib/python3.7/site-packages (from requests) (3.0.4)\n"
     ]
    }
   ],
   "source": [
    "#install BeautifulSoup4 and requests for web scraping\n",
    "!pip install BeautifulSoup4\n",
    "!pip install requests"
   ]
  },
  {
   "cell_type": "code",
   "execution_count": 2,
   "metadata": {},
   "outputs": [],
   "source": [
    "#import\n",
    "from bs4 import BeautifulSoup\n",
    "import requests\n",
    "import pandas as pd\n",
    "import numpy as np"
   ]
  },
  {
   "cell_type": "code",
   "execution_count": 3,
   "metadata": {},
   "outputs": [],
   "source": [
    "#get html from the wiki page and create soup object\n",
    "source = requests.get(\"https://en.wikipedia.org/wiki/List_of_postal_codes_of_Canada:_M\")\n",
    "soup = BeautifulSoup(source.text, 'lxml')"
   ]
  },
  {
   "cell_type": "code",
   "execution_count": 4,
   "metadata": {},
   "outputs": [],
   "source": [
    "#using soup object, iterate the .wikitable to get the data from the HTML page and store it into a list\n",
    "data = []\n",
    "columns = []\n",
    "table = soup.find(class_='wikitable')\n",
    "for index, tr in enumerate(table.find_all('tr')):\n",
    "    section = []\n",
    "    for td in tr.find_all(['th','td']):\n",
    "        section.append(td.text.rstrip())\n",
    "    \n",
    "    #First row of data is the header\n",
    "    if (index == 0):\n",
    "        columns = section\n",
    "    else:\n",
    "        data.append(section)"
   ]
  },
  {
   "cell_type": "code",
   "execution_count": 5,
   "metadata": {},
   "outputs": [
    {
     "data": {
      "text/html": [
       "<div>\n",
       "<style scoped>\n",
       "    .dataframe tbody tr th:only-of-type {\n",
       "        vertical-align: middle;\n",
       "    }\n",
       "\n",
       "    .dataframe tbody tr th {\n",
       "        vertical-align: top;\n",
       "    }\n",
       "\n",
       "    .dataframe thead th {\n",
       "        text-align: right;\n",
       "    }\n",
       "</style>\n",
       "<table border=\"1\" class=\"dataframe\">\n",
       "  <thead>\n",
       "    <tr style=\"text-align: right;\">\n",
       "      <th></th>\n",
       "      <th>Postcode</th>\n",
       "      <th>Borough</th>\n",
       "      <th>Neighbourhood</th>\n",
       "    </tr>\n",
       "  </thead>\n",
       "  <tbody>\n",
       "    <tr>\n",
       "      <th>0</th>\n",
       "      <td>M1A</td>\n",
       "      <td>Not assigned</td>\n",
       "      <td>Not assigned</td>\n",
       "    </tr>\n",
       "    <tr>\n",
       "      <th>1</th>\n",
       "      <td>M2A</td>\n",
       "      <td>Not assigned</td>\n",
       "      <td>Not assigned</td>\n",
       "    </tr>\n",
       "    <tr>\n",
       "      <th>2</th>\n",
       "      <td>M3A</td>\n",
       "      <td>North York</td>\n",
       "      <td>Parkwoods</td>\n",
       "    </tr>\n",
       "    <tr>\n",
       "      <th>3</th>\n",
       "      <td>M4A</td>\n",
       "      <td>North York</td>\n",
       "      <td>Victoria Village</td>\n",
       "    </tr>\n",
       "    <tr>\n",
       "      <th>4</th>\n",
       "      <td>M5A</td>\n",
       "      <td>Downtown Toronto</td>\n",
       "      <td>Harbourfront</td>\n",
       "    </tr>\n",
       "  </tbody>\n",
       "</table>\n",
       "</div>"
      ],
      "text/plain": [
       "  Postcode           Borough     Neighbourhood\n",
       "0      M1A      Not assigned      Not assigned\n",
       "1      M2A      Not assigned      Not assigned\n",
       "2      M3A        North York         Parkwoods\n",
       "3      M4A        North York  Victoria Village\n",
       "4      M5A  Downtown Toronto      Harbourfront"
      ]
     },
     "execution_count": 5,
     "metadata": {},
     "output_type": "execute_result"
    }
   ],
   "source": [
    "#convert list into Pandas DataFrame\n",
    "canada_df = pd.DataFrame(data = data,columns = columns)\n",
    "canada_df.head()"
   ]
  },
  {
   "cell_type": "code",
   "execution_count": 6,
   "metadata": {},
   "outputs": [
    {
     "data": {
      "text/html": [
       "<div>\n",
       "<style scoped>\n",
       "    .dataframe tbody tr th:only-of-type {\n",
       "        vertical-align: middle;\n",
       "    }\n",
       "\n",
       "    .dataframe tbody tr th {\n",
       "        vertical-align: top;\n",
       "    }\n",
       "\n",
       "    .dataframe thead th {\n",
       "        text-align: right;\n",
       "    }\n",
       "</style>\n",
       "<table border=\"1\" class=\"dataframe\">\n",
       "  <thead>\n",
       "    <tr style=\"text-align: right;\">\n",
       "      <th></th>\n",
       "      <th>Postcode</th>\n",
       "      <th>Borough</th>\n",
       "      <th>Neighbourhood</th>\n",
       "    </tr>\n",
       "  </thead>\n",
       "  <tbody>\n",
       "    <tr>\n",
       "      <th>2</th>\n",
       "      <td>M3A</td>\n",
       "      <td>North York</td>\n",
       "      <td>Parkwoods</td>\n",
       "    </tr>\n",
       "    <tr>\n",
       "      <th>3</th>\n",
       "      <td>M4A</td>\n",
       "      <td>North York</td>\n",
       "      <td>Victoria Village</td>\n",
       "    </tr>\n",
       "    <tr>\n",
       "      <th>4</th>\n",
       "      <td>M5A</td>\n",
       "      <td>Downtown Toronto</td>\n",
       "      <td>Harbourfront</td>\n",
       "    </tr>\n",
       "    <tr>\n",
       "      <th>5</th>\n",
       "      <td>M5A</td>\n",
       "      <td>Downtown Toronto</td>\n",
       "      <td>Regent Park</td>\n",
       "    </tr>\n",
       "    <tr>\n",
       "      <th>6</th>\n",
       "      <td>M6A</td>\n",
       "      <td>North York</td>\n",
       "      <td>Lawrence Heights</td>\n",
       "    </tr>\n",
       "  </tbody>\n",
       "</table>\n",
       "</div>"
      ],
      "text/plain": [
       "  Postcode           Borough     Neighbourhood\n",
       "2      M3A        North York         Parkwoods\n",
       "3      M4A        North York  Victoria Village\n",
       "4      M5A  Downtown Toronto      Harbourfront\n",
       "5      M5A  Downtown Toronto       Regent Park\n",
       "6      M6A        North York  Lawrence Heights"
      ]
     },
     "execution_count": 6,
     "metadata": {},
     "output_type": "execute_result"
    }
   ],
   "source": [
    "#Data Cleanup: Remove Boroughs that are 'Not assigned'\n",
    "canada_df = canada_df[canada_df['Borough'] != 'Not assigned']\n",
    "canada_df.head()"
   ]
  },
  {
   "cell_type": "code",
   "execution_count": 7,
   "metadata": {},
   "outputs": [
    {
     "data": {
      "text/html": [
       "<div>\n",
       "<style scoped>\n",
       "    .dataframe tbody tr th:only-of-type {\n",
       "        vertical-align: middle;\n",
       "    }\n",
       "\n",
       "    .dataframe tbody tr th {\n",
       "        vertical-align: top;\n",
       "    }\n",
       "\n",
       "    .dataframe thead th {\n",
       "        text-align: right;\n",
       "    }\n",
       "</style>\n",
       "<table border=\"1\" class=\"dataframe\">\n",
       "  <thead>\n",
       "    <tr style=\"text-align: right;\">\n",
       "      <th></th>\n",
       "      <th>Borough</th>\n",
       "      <th>Neighbourhood</th>\n",
       "    </tr>\n",
       "    <tr>\n",
       "      <th>Postcode</th>\n",
       "      <th></th>\n",
       "      <th></th>\n",
       "    </tr>\n",
       "  </thead>\n",
       "  <tbody>\n",
       "    <tr>\n",
       "      <th>M3A</th>\n",
       "      <td>North York</td>\n",
       "      <td>Parkwoods</td>\n",
       "    </tr>\n",
       "    <tr>\n",
       "      <th>M4A</th>\n",
       "      <td>North York</td>\n",
       "      <td>Victoria Village</td>\n",
       "    </tr>\n",
       "    <tr>\n",
       "      <th>M5A</th>\n",
       "      <td>Downtown Toronto</td>\n",
       "      <td>Harbourfront, Regent Park</td>\n",
       "    </tr>\n",
       "    <tr>\n",
       "      <th>M6A</th>\n",
       "      <td>North York</td>\n",
       "      <td>Lawrence Heights, Lawrence Manor</td>\n",
       "    </tr>\n",
       "    <tr>\n",
       "      <th>M7A</th>\n",
       "      <td>Queen's Park</td>\n",
       "      <td>Not assigned</td>\n",
       "    </tr>\n",
       "  </tbody>\n",
       "</table>\n",
       "</div>"
      ],
      "text/plain": [
       "                   Borough                     Neighbourhood\n",
       "Postcode                                                    \n",
       "M3A             North York                         Parkwoods\n",
       "M4A             North York                  Victoria Village\n",
       "M5A       Downtown Toronto         Harbourfront, Regent Park\n",
       "M6A             North York  Lawrence Heights, Lawrence Manor\n",
       "M7A           Queen's Park                      Not assigned"
      ]
     },
     "execution_count": 7,
     "metadata": {},
     "output_type": "execute_result"
    }
   ],
   "source": [
    "# More than one neighborhood can exist in one postal code area, combined these into one row with the neighborhoods separated with a comma\n",
    "canada_df[\"Neighbourhood\"] = canada_df.groupby(\"Postcode\")[\"Neighbourhood\"].transform(lambda neigh: ', '.join(neigh))\n",
    "\n",
    "#remove duplicates\n",
    "canada_df = canada_df.drop_duplicates()\n",
    "\n",
    "#update index to be postcode if it isn't already\n",
    "if(canada_df.index.name != 'Postcode'):\n",
    "    canada_df = canada_df.set_index('Postcode')\n",
    "    \n",
    "canada_df.head()"
   ]
  },
  {
   "cell_type": "code",
   "execution_count": 8,
   "metadata": {},
   "outputs": [
    {
     "data": {
      "text/html": [
       "<div>\n",
       "<style scoped>\n",
       "    .dataframe tbody tr th:only-of-type {\n",
       "        vertical-align: middle;\n",
       "    }\n",
       "\n",
       "    .dataframe tbody tr th {\n",
       "        vertical-align: top;\n",
       "    }\n",
       "\n",
       "    .dataframe thead th {\n",
       "        text-align: right;\n",
       "    }\n",
       "</style>\n",
       "<table border=\"1\" class=\"dataframe\">\n",
       "  <thead>\n",
       "    <tr style=\"text-align: right;\">\n",
       "      <th></th>\n",
       "      <th>Borough</th>\n",
       "      <th>Neighbourhood</th>\n",
       "    </tr>\n",
       "    <tr>\n",
       "      <th>Postcode</th>\n",
       "      <th></th>\n",
       "      <th></th>\n",
       "    </tr>\n",
       "  </thead>\n",
       "  <tbody>\n",
       "    <tr>\n",
       "      <th>M3A</th>\n",
       "      <td>North York</td>\n",
       "      <td>Parkwoods</td>\n",
       "    </tr>\n",
       "    <tr>\n",
       "      <th>M4A</th>\n",
       "      <td>North York</td>\n",
       "      <td>Victoria Village</td>\n",
       "    </tr>\n",
       "    <tr>\n",
       "      <th>M5A</th>\n",
       "      <td>Downtown Toronto</td>\n",
       "      <td>Harbourfront, Regent Park</td>\n",
       "    </tr>\n",
       "    <tr>\n",
       "      <th>M6A</th>\n",
       "      <td>North York</td>\n",
       "      <td>Lawrence Heights, Lawrence Manor</td>\n",
       "    </tr>\n",
       "    <tr>\n",
       "      <th>M7A</th>\n",
       "      <td>Queen's Park</td>\n",
       "      <td>Queen's Park</td>\n",
       "    </tr>\n",
       "  </tbody>\n",
       "</table>\n",
       "</div>"
      ],
      "text/plain": [
       "                   Borough                     Neighbourhood\n",
       "Postcode                                                    \n",
       "M3A             North York                         Parkwoods\n",
       "M4A             North York                  Victoria Village\n",
       "M5A       Downtown Toronto         Harbourfront, Regent Park\n",
       "M6A             North York  Lawrence Heights, Lawrence Manor\n",
       "M7A           Queen's Park                      Queen's Park"
      ]
     },
     "execution_count": 8,
     "metadata": {},
     "output_type": "execute_result"
    }
   ],
   "source": [
    "# If a cell has a borough but a Not assigned neighborhood, then the neighborhood will be the same as the borough\n",
    "canada_df['Neighbourhood'].replace(\"Not assigned\", canada_df[\"Borough\"],inplace=True)\n",
    "canada_df.head()"
   ]
  },
  {
   "cell_type": "code",
   "execution_count": 9,
   "metadata": {},
   "outputs": [
    {
     "data": {
      "text/plain": [
       "(103, 2)"
      ]
     },
     "execution_count": 9,
     "metadata": {},
     "output_type": "execute_result"
    }
   ],
   "source": [
    "canada_df.shape"
   ]
  },
  {
   "cell_type": "markdown",
   "metadata": {},
   "source": [
    "#Now that you have built a dataframe of the postal code of each neighborhood along with the borough name and neighborhood name, in order to utilize the Foursquare location data, we need to get the latitude and the longitude coordinates of each neighborhood.\n",
    "\n",
    "#We will use a link to a csv file that has the geographical coordinates of each postal code: http://cocl.us/Geospatial_data to get the latitude and the longitude coordinates of each neighborhood."
   ]
  },
  {
   "cell_type": "code",
   "execution_count": 10,
   "metadata": {},
   "outputs": [],
   "source": [
    "#Get data lat/long data from csv\n",
    "import pandas as pd\n",
    "lat_long_coord_df = pd.read_csv(\"/Users/rongqianma/Downloads/Geospatial_Coordinates.csv\")"
   ]
  },
  {
   "cell_type": "code",
   "execution_count": 11,
   "metadata": {},
   "outputs": [
    {
     "data": {
      "text/html": [
       "<div>\n",
       "<style scoped>\n",
       "    .dataframe tbody tr th:only-of-type {\n",
       "        vertical-align: middle;\n",
       "    }\n",
       "\n",
       "    .dataframe tbody tr th {\n",
       "        vertical-align: top;\n",
       "    }\n",
       "\n",
       "    .dataframe thead th {\n",
       "        text-align: right;\n",
       "    }\n",
       "</style>\n",
       "<table border=\"1\" class=\"dataframe\">\n",
       "  <thead>\n",
       "    <tr style=\"text-align: right;\">\n",
       "      <th></th>\n",
       "      <th>Latitude</th>\n",
       "      <th>Longitude</th>\n",
       "    </tr>\n",
       "    <tr>\n",
       "      <th>Postcode</th>\n",
       "      <th></th>\n",
       "      <th></th>\n",
       "    </tr>\n",
       "  </thead>\n",
       "  <tbody>\n",
       "    <tr>\n",
       "      <th>M1B</th>\n",
       "      <td>43.806686</td>\n",
       "      <td>-79.194353</td>\n",
       "    </tr>\n",
       "    <tr>\n",
       "      <th>M1C</th>\n",
       "      <td>43.784535</td>\n",
       "      <td>-79.160497</td>\n",
       "    </tr>\n",
       "    <tr>\n",
       "      <th>M1E</th>\n",
       "      <td>43.763573</td>\n",
       "      <td>-79.188711</td>\n",
       "    </tr>\n",
       "    <tr>\n",
       "      <th>M1G</th>\n",
       "      <td>43.770992</td>\n",
       "      <td>-79.216917</td>\n",
       "    </tr>\n",
       "    <tr>\n",
       "      <th>M1H</th>\n",
       "      <td>43.773136</td>\n",
       "      <td>-79.239476</td>\n",
       "    </tr>\n",
       "  </tbody>\n",
       "</table>\n",
       "</div>"
      ],
      "text/plain": [
       "           Latitude  Longitude\n",
       "Postcode                      \n",
       "M1B       43.806686 -79.194353\n",
       "M1C       43.784535 -79.160497\n",
       "M1E       43.763573 -79.188711\n",
       "M1G       43.770992 -79.216917\n",
       "M1H       43.773136 -79.239476"
      ]
     },
     "execution_count": 11,
     "metadata": {},
     "output_type": "execute_result"
    }
   ],
   "source": [
    "lat_long_coord_df.columns = [\"Postcode\", \"Latitude\", \"Longitude\"]\n",
    "if(lat_long_coord_df.index.name != 'Postcode'):\n",
    "    lat_long_coord_df = lat_long_coord_df.set_index('Postcode')\n",
    "    \n",
    "lat_long_coord_df.head()"
   ]
  },
  {
   "cell_type": "code",
   "execution_count": 12,
   "metadata": {},
   "outputs": [],
   "source": [
    "canada_df = canada_df.join(lat_long_coord_df)"
   ]
  },
  {
   "cell_type": "code",
   "execution_count": 77,
   "metadata": {},
   "outputs": [
    {
     "data": {
      "text/html": [
       "<div>\n",
       "<style scoped>\n",
       "    .dataframe tbody tr th:only-of-type {\n",
       "        vertical-align: middle;\n",
       "    }\n",
       "\n",
       "    .dataframe tbody tr th {\n",
       "        vertical-align: top;\n",
       "    }\n",
       "\n",
       "    .dataframe thead th {\n",
       "        text-align: right;\n",
       "    }\n",
       "</style>\n",
       "<table border=\"1\" class=\"dataframe\">\n",
       "  <thead>\n",
       "    <tr style=\"text-align: right;\">\n",
       "      <th></th>\n",
       "      <th>Borough</th>\n",
       "      <th>Neighbourhood</th>\n",
       "      <th>Latitude</th>\n",
       "      <th>Longitude</th>\n",
       "    </tr>\n",
       "    <tr>\n",
       "      <th>Postcode</th>\n",
       "      <th></th>\n",
       "      <th></th>\n",
       "      <th></th>\n",
       "      <th></th>\n",
       "    </tr>\n",
       "  </thead>\n",
       "  <tbody>\n",
       "    <tr>\n",
       "      <th>M3A</th>\n",
       "      <td>North York</td>\n",
       "      <td>Parkwoods</td>\n",
       "      <td>43.753259</td>\n",
       "      <td>-79.329656</td>\n",
       "    </tr>\n",
       "    <tr>\n",
       "      <th>M4A</th>\n",
       "      <td>North York</td>\n",
       "      <td>Victoria Village</td>\n",
       "      <td>43.725882</td>\n",
       "      <td>-79.315572</td>\n",
       "    </tr>\n",
       "    <tr>\n",
       "      <th>M5A</th>\n",
       "      <td>Downtown Toronto</td>\n",
       "      <td>Harbourfront, Regent Park</td>\n",
       "      <td>43.654260</td>\n",
       "      <td>-79.360636</td>\n",
       "    </tr>\n",
       "    <tr>\n",
       "      <th>M6A</th>\n",
       "      <td>North York</td>\n",
       "      <td>Lawrence Heights, Lawrence Manor</td>\n",
       "      <td>43.718518</td>\n",
       "      <td>-79.464763</td>\n",
       "    </tr>\n",
       "    <tr>\n",
       "      <th>M7A</th>\n",
       "      <td>Queen's Park</td>\n",
       "      <td>Queen's Park</td>\n",
       "      <td>43.662301</td>\n",
       "      <td>-79.389494</td>\n",
       "    </tr>\n",
       "    <tr>\n",
       "      <th>M9A</th>\n",
       "      <td>Etobicoke</td>\n",
       "      <td>Islington Avenue</td>\n",
       "      <td>43.667856</td>\n",
       "      <td>-79.532242</td>\n",
       "    </tr>\n",
       "    <tr>\n",
       "      <th>M1B</th>\n",
       "      <td>Scarborough</td>\n",
       "      <td>Rouge, Malvern</td>\n",
       "      <td>43.806686</td>\n",
       "      <td>-79.194353</td>\n",
       "    </tr>\n",
       "    <tr>\n",
       "      <th>M3B</th>\n",
       "      <td>North York</td>\n",
       "      <td>Don Mills North</td>\n",
       "      <td>43.745906</td>\n",
       "      <td>-79.352188</td>\n",
       "    </tr>\n",
       "    <tr>\n",
       "      <th>M4B</th>\n",
       "      <td>East York</td>\n",
       "      <td>Woodbine Gardens, Parkview Hill</td>\n",
       "      <td>43.706397</td>\n",
       "      <td>-79.309937</td>\n",
       "    </tr>\n",
       "    <tr>\n",
       "      <th>M5B</th>\n",
       "      <td>Downtown Toronto</td>\n",
       "      <td>Ryerson, Garden District</td>\n",
       "      <td>43.657162</td>\n",
       "      <td>-79.378937</td>\n",
       "    </tr>\n",
       "    <tr>\n",
       "      <th>M6B</th>\n",
       "      <td>North York</td>\n",
       "      <td>Glencairn</td>\n",
       "      <td>43.709577</td>\n",
       "      <td>-79.445073</td>\n",
       "    </tr>\n",
       "  </tbody>\n",
       "</table>\n",
       "</div>"
      ],
      "text/plain": [
       "                   Borough                     Neighbourhood   Latitude  \\\n",
       "Postcode                                                                  \n",
       "M3A             North York                         Parkwoods  43.753259   \n",
       "M4A             North York                  Victoria Village  43.725882   \n",
       "M5A       Downtown Toronto         Harbourfront, Regent Park  43.654260   \n",
       "M6A             North York  Lawrence Heights, Lawrence Manor  43.718518   \n",
       "M7A           Queen's Park                      Queen's Park  43.662301   \n",
       "M9A              Etobicoke                  Islington Avenue  43.667856   \n",
       "M1B            Scarborough                    Rouge, Malvern  43.806686   \n",
       "M3B             North York                   Don Mills North  43.745906   \n",
       "M4B              East York   Woodbine Gardens, Parkview Hill  43.706397   \n",
       "M5B       Downtown Toronto          Ryerson, Garden District  43.657162   \n",
       "M6B             North York                         Glencairn  43.709577   \n",
       "\n",
       "          Longitude  \n",
       "Postcode             \n",
       "M3A      -79.329656  \n",
       "M4A      -79.315572  \n",
       "M5A      -79.360636  \n",
       "M6A      -79.464763  \n",
       "M7A      -79.389494  \n",
       "M9A      -79.532242  \n",
       "M1B      -79.194353  \n",
       "M3B      -79.352188  \n",
       "M4B      -79.309937  \n",
       "M5B      -79.378937  \n",
       "M6B      -79.445073  "
      ]
     },
     "execution_count": 77,
     "metadata": {},
     "output_type": "execute_result"
    }
   ],
   "source": [
    "canada_df.head(11)"
   ]
  },
  {
   "cell_type": "markdown",
   "metadata": {},
   "source": [
    "Step 3: Exploring and Clustering neighbourhoods "
   ]
  },
  {
   "cell_type": "code",
   "execution_count": 13,
   "metadata": {},
   "outputs": [
    {
     "name": "stdout",
     "output_type": "stream",
     "text": [
      "Libraries imported.\n"
     ]
    }
   ],
   "source": [
    "import numpy as np # library to handle data in a vectorized manner\n",
    "\n",
    "import pandas as pd # library for data analsysis\n",
    "pd.set_option('display.max_columns', None)\n",
    "pd.set_option('display.max_rows', None)\n",
    "\n",
    "import json # library to handle JSON files\n",
    "\n",
    "#!conda install -c conda-forge geopy --yes # uncomment this line if you haven't completed the Foursquare API lab\n",
    "from geopy.geocoders import Nominatim # convert an address into latitude and longitude values\n",
    "\n",
    "import requests # library to handle requests\n",
    "from pandas.io.json import json_normalize # tranform JSON file into a pandas dataframe\n",
    "\n",
    "# Matplotlib and associated plotting modules\n",
    "import matplotlib.cm as cm\n",
    "import matplotlib.colors as colors\n",
    "\n",
    "# import k-means from clustering stage\n",
    "from sklearn.cluster import KMeans\n",
    "\n",
    "print('Libraries imported.')"
   ]
  },
  {
   "cell_type": "code",
   "execution_count": 21,
   "metadata": {},
   "outputs": [
    {
     "name": "stdout",
     "output_type": "stream",
     "text": [
      "Collecting folium\n",
      "\u001b[?25l  Downloading https://files.pythonhosted.org/packages/72/ff/004bfe344150a064e558cb2aedeaa02ecbf75e60e148a55a9198f0c41765/folium-0.10.0-py2.py3-none-any.whl (91kB)\n",
      "\u001b[K     |████████████████████████████████| 92kB 1.5MB/s eta 0:00:01\n",
      "\u001b[?25hRequirement already satisfied: jinja2>=2.9 in ./anaconda3/lib/python3.7/site-packages (from folium) (2.10.1)\n",
      "Requirement already satisfied: numpy in ./anaconda3/lib/python3.7/site-packages (from folium) (1.16.4)\n",
      "Collecting branca>=0.3.0 (from folium)\n",
      "  Downloading https://files.pythonhosted.org/packages/63/36/1c93318e9653f4e414a2e0c3b98fc898b4970e939afeedeee6075dd3b703/branca-0.3.1-py3-none-any.whl\n",
      "Requirement already satisfied: requests in ./anaconda3/lib/python3.7/site-packages (from folium) (2.22.0)\n",
      "Requirement already satisfied: MarkupSafe>=0.23 in ./anaconda3/lib/python3.7/site-packages (from jinja2>=2.9->folium) (1.1.1)\n",
      "Requirement already satisfied: six in ./anaconda3/lib/python3.7/site-packages (from branca>=0.3.0->folium) (1.12.0)\n",
      "Requirement already satisfied: certifi>=2017.4.17 in ./anaconda3/lib/python3.7/site-packages (from requests->folium) (2019.6.16)\n",
      "Requirement already satisfied: chardet<3.1.0,>=3.0.2 in ./anaconda3/lib/python3.7/site-packages (from requests->folium) (3.0.4)\n",
      "Requirement already satisfied: urllib3!=1.25.0,!=1.25.1,<1.26,>=1.21.1 in ./anaconda3/lib/python3.7/site-packages (from requests->folium) (1.24.2)\n",
      "Requirement already satisfied: idna<2.9,>=2.5 in ./anaconda3/lib/python3.7/site-packages (from requests->folium) (2.8)\n",
      "Installing collected packages: branca, folium\n",
      "Successfully installed branca-0.3.1 folium-0.10.0\n",
      "Note: you may need to restart the kernel to use updated packages.\n"
     ]
    }
   ],
   "source": [
    "pip install folium"
   ]
  },
  {
   "cell_type": "code",
   "execution_count": 27,
   "metadata": {},
   "outputs": [],
   "source": [
    "import folium"
   ]
  },
  {
   "cell_type": "code",
   "execution_count": 28,
   "metadata": {},
   "outputs": [
    {
     "data": {
      "text/html": [
       "<div>\n",
       "<style scoped>\n",
       "    .dataframe tbody tr th:only-of-type {\n",
       "        vertical-align: middle;\n",
       "    }\n",
       "\n",
       "    .dataframe tbody tr th {\n",
       "        vertical-align: top;\n",
       "    }\n",
       "\n",
       "    .dataframe thead th {\n",
       "        text-align: right;\n",
       "    }\n",
       "</style>\n",
       "<table border=\"1\" class=\"dataframe\">\n",
       "  <thead>\n",
       "    <tr style=\"text-align: right;\">\n",
       "      <th></th>\n",
       "      <th>Borough</th>\n",
       "      <th>Neighbourhood</th>\n",
       "      <th>Latitude</th>\n",
       "      <th>Longitude</th>\n",
       "    </tr>\n",
       "    <tr>\n",
       "      <th>Postcode</th>\n",
       "      <th></th>\n",
       "      <th></th>\n",
       "      <th></th>\n",
       "      <th></th>\n",
       "    </tr>\n",
       "  </thead>\n",
       "  <tbody>\n",
       "    <tr>\n",
       "      <th>M5A</th>\n",
       "      <td>Downtown Toronto</td>\n",
       "      <td>Harbourfront, Regent Park</td>\n",
       "      <td>43.654260</td>\n",
       "      <td>-79.360636</td>\n",
       "    </tr>\n",
       "    <tr>\n",
       "      <th>M5B</th>\n",
       "      <td>Downtown Toronto</td>\n",
       "      <td>Ryerson, Garden District</td>\n",
       "      <td>43.657162</td>\n",
       "      <td>-79.378937</td>\n",
       "    </tr>\n",
       "    <tr>\n",
       "      <th>M5C</th>\n",
       "      <td>Downtown Toronto</td>\n",
       "      <td>St. James Town</td>\n",
       "      <td>43.651494</td>\n",
       "      <td>-79.375418</td>\n",
       "    </tr>\n",
       "    <tr>\n",
       "      <th>M4E</th>\n",
       "      <td>East Toronto</td>\n",
       "      <td>The Beaches</td>\n",
       "      <td>43.676357</td>\n",
       "      <td>-79.293031</td>\n",
       "    </tr>\n",
       "    <tr>\n",
       "      <th>M5E</th>\n",
       "      <td>Downtown Toronto</td>\n",
       "      <td>Berczy Park</td>\n",
       "      <td>43.644771</td>\n",
       "      <td>-79.373306</td>\n",
       "    </tr>\n",
       "  </tbody>\n",
       "</table>\n",
       "</div>"
      ],
      "text/plain": [
       "                   Borough              Neighbourhood   Latitude  Longitude\n",
       "Postcode                                                                   \n",
       "M5A       Downtown Toronto  Harbourfront, Regent Park  43.654260 -79.360636\n",
       "M5B       Downtown Toronto   Ryerson, Garden District  43.657162 -79.378937\n",
       "M5C       Downtown Toronto             St. James Town  43.651494 -79.375418\n",
       "M4E           East Toronto                The Beaches  43.676357 -79.293031\n",
       "M5E       Downtown Toronto                Berczy Park  43.644771 -79.373306"
      ]
     },
     "execution_count": 28,
     "metadata": {},
     "output_type": "execute_result"
    }
   ],
   "source": [
    "#Filter Canada data using boroughs\n",
    "toronto_df = canada_df[canada_df['Borough'].str.contains('Toronto')]\n",
    "toronto_df.head()"
   ]
  },
  {
   "cell_type": "code",
   "execution_count": 29,
   "metadata": {},
   "outputs": [
    {
     "data": {
      "text/html": [
       "<div style=\"width:100%;\"><div style=\"position:relative;width:100%;height:0;padding-bottom:60%;\"><iframe src=\"data:text/html;charset=utf-8;base64,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\" style=\"position:absolute;width:100%;height:100%;left:0;top:0;border:none !important;\" allowfullscreen webkitallowfullscreen mozallowfullscreen></iframe></div></div>"
      ],
      "text/plain": [
       "<folium.folium.Map at 0x1a25b87898>"
      ]
     },
     "execution_count": 29,
     "metadata": {},
     "output_type": "execute_result"
    }
   ],
   "source": [
    "# create map of Toronto using latitude and longitude values\n",
    "map_toronto = folium.Map(location=[toronto_df[\"Latitude\"][0], toronto_df[\"Longitude\"][0]], zoom_start=10)\n",
    "\n",
    "# add markers to map\n",
    "for lat, lng, borough, neighborhood in zip(toronto_df['Latitude'], toronto_df['Longitude'], toronto_df['Borough'], toronto_df['Neighbourhood']):\n",
    "    label = '{}, {}'.format(neighborhood, borough)\n",
    "    label = folium.Popup(label, parse_html=True)\n",
    "    folium.CircleMarker(\n",
    "        [lat, lng],\n",
    "        radius=5,\n",
    "        popup=label,\n",
    "        color='blue',\n",
    "        fill=True,\n",
    "        fill_color='#3186cc',\n",
    "        fill_opacity=0.7,\n",
    "        parse_html=False).add_to(map_toronto)  \n",
    "    \n",
    "map_toronto"
   ]
  },
  {
   "cell_type": "code",
   "execution_count": null,
   "metadata": {},
   "outputs": [],
   "source": []
  }
 ],
 "metadata": {
  "kernelspec": {
   "display_name": "Python 3",
   "language": "python",
   "name": "python3"
  },
  "language_info": {
   "codemirror_mode": {
    "name": "ipython",
    "version": 3
   },
   "file_extension": ".py",
   "mimetype": "text/x-python",
   "name": "python",
   "nbconvert_exporter": "python",
   "pygments_lexer": "ipython3",
   "version": "3.7.3"
  }
 },
 "nbformat": 4,
 "nbformat_minor": 2
}
